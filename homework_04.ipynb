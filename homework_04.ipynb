{
  "nbformat": 4,
  "nbformat_minor": 0,
  "metadata": {
    "colab": {
      "provenance": [],
      "include_colab_link": true
    },
    "kernelspec": {
      "name": "python3",
      "display_name": "Python 3"
    },
    "language_info": {
      "name": "python"
    }
  },
  "cells": [
    {
      "cell_type": "markdown",
      "metadata": {
        "id": "view-in-github",
        "colab_type": "text"
      },
      "source": [
        "<a href=\"https://colab.research.google.com/github/Wirexiam/decorators/blob/main/homework_04.ipynb\" target=\"_parent\"><img src=\"https://colab.research.google.com/assets/colab-badge.svg\" alt=\"Open In Colab\"/></a>"
      ]
    },
    {
      "cell_type": "markdown",
      "source": [
        "# Домашнее задание: декораторы"
      ],
      "metadata": {
        "id": "QY4qPJPpgyIS"
      }
    },
    {
      "cell_type": "markdown",
      "source": [
        "## Импорт библиотек, установка констант"
      ],
      "metadata": {
        "id": "Chacc6YchldZ"
      }
    },
    {
      "cell_type": "code",
      "source": [
        "import requests\n",
        "import time\n",
        "import re\n",
        "\n",
        "from random import randint"
      ],
      "metadata": {
        "id": "w8iKrWvwhrFd"
      },
      "execution_count": 7,
      "outputs": []
    },
    {
      "cell_type": "code",
      "source": [
        "BOOK_PATH = 'https://www.gutenberg.org/files/2638/2638-0.txt'"
      ],
      "metadata": {
        "id": "-LRkS0fSi8Np"
      },
      "execution_count": 8,
      "outputs": []
    },
    {
      "cell_type": "markdown",
      "source": [
        "## Задание 1"
      ],
      "metadata": {
        "id": "kARfL8ifg4MH"
      }
    },
    {
      "cell_type": "code",
      "execution_count": 9,
      "metadata": {
        "id": "hNHNWPhngrUl"
      },
      "outputs": [],
      "source": [
        "import time\n",
        "\n",
        "def benchmark(func):\n",
        "    \"\"\"\n",
        "    Декоратор, выводящий время, которое заняло выполнение декорируемой функции\n",
        "    \"\"\"\n",
        "\n",
        "    def wrapper(*args, **kwargs):\n",
        "        start_time = time.time()\n",
        "        result = func(*args, **kwargs)\n",
        "        end_time = time.time()\n",
        "        print(f\"Время выполнения функции '{func.__name__}': {end_time - start_time} секунд\")\n",
        "        return result\n",
        "\n",
        "    return wrapper\n"
      ]
    },
    {
      "cell_type": "markdown",
      "source": [
        "## Задание 2"
      ],
      "metadata": {
        "id": "tGlbUKjihL5n"
      }
    },
    {
      "cell_type": "code",
      "source": [
        "def logging(func):\n",
        "    \"\"\"\n",
        "    Декоратор, который выводит параметры с которыми была вызвана функция\n",
        "    \"\"\"\n",
        "\n",
        "    def wrapper(*args, **kwargs):\n",
        "        print(f\"Function '{func.__name__}' called with args: {args}, kwargs: {kwargs}\")\n",
        "        return func(*args, **kwargs)\n",
        "\n",
        "    return wrapper"
      ],
      "metadata": {
        "id": "wugOZDLqhNe-"
      },
      "execution_count": 10,
      "outputs": []
    },
    {
      "cell_type": "markdown",
      "source": [
        "## Задание 3"
      ],
      "metadata": {
        "id": "Sq1tv5fshTfv"
      }
    },
    {
      "cell_type": "code",
      "source": [
        "def counter(func):\n",
        "    \"\"\"\n",
        "    Декоратор, считающий и выводящий количество вызовов декорируемой функции\n",
        "    \"\"\"\n",
        "    count = 0  # Счетчик вызовов начинается с нуля\n",
        "\n",
        "    def wrapper(*args, **kwargs):\n",
        "        nonlocal count  # Используем nonlocal для доступа к переменной count из объемлющей области видимости\n",
        "        count += 1  # Увеличиваем счетчик при каждом вызове\n",
        "        print(f\"Функция {func.__name__} была вызвана {count} раз(а)\")\n",
        "        return func(*args, **kwargs)  # Вызываем декорируемую функцию с переданными аргументами\n",
        "\n",
        "    return wrapper"
      ],
      "metadata": {
        "id": "9nyvuxXkhVeb"
      },
      "execution_count": 11,
      "outputs": []
    },
    {
      "cell_type": "markdown",
      "source": [
        "## Задание 4"
      ],
      "metadata": {
        "id": "uHn8Adfshz5q"
      }
    },
    {
      "cell_type": "code",
      "source": [
        "def memo(func):\n",
        "    \"\"\"\n",
        "    Декоратор, запоминающий результаты исполнения функции func, чьи аргументы args должны быть хешируемыми\n",
        "    \"\"\"\n",
        "    cache = {}\n",
        "\n",
        "    def fmemo(*args):\n",
        "        if args in cache:\n",
        "            return cache[args]\n",
        "        else:\n",
        "            result = func(*args)\n",
        "            cache[args] = result\n",
        "            return result\n",
        "\n",
        "    fmemo.cache = cache\n",
        "    return fmemo\n",
        "\n",
        "# Пример использования:\n",
        "@memo\n",
        "def fibonacci(n):\n",
        "    if n <= 1:\n",
        "        return n\n",
        "    else:\n",
        "        return fibonacci(n - 1) + fibonacci(n - 2)"
      ],
      "metadata": {
        "id": "R7uu6WtGifNX"
      },
      "execution_count": 12,
      "outputs": []
    },
    {
      "cell_type": "markdown",
      "source": [
        "## Тестирование"
      ],
      "metadata": {
        "id": "Zn5UQCa_izxo"
      }
    },
    {
      "cell_type": "code",
      "source": [
        "@counter\n",
        "@logging\n",
        "@benchmark\n",
        "def word_count(word, url=BOOK_PATH):\n",
        "    \"\"\"\n",
        "    Функция для посчета указанного слова на html-странице\n",
        "    \"\"\"\n",
        "\n",
        "    # отправляем запрос в библиотеку Gutenberg и забираем текст\n",
        "    raw = requests.get(url).text\n",
        "\n",
        "    # заменяем в тексте все небуквенные символы на пробелы\n",
        "    processed_book = re.sub('[\\W]+' , ' ', raw).lower()\n",
        "\n",
        "    # считаем\n",
        "    cnt = len(re.findall(word.lower(), processed_book))\n",
        "\n",
        "    return f\"Cлово {word} встречается {cnt} раз\"\n",
        "\n",
        "print(word_count('whole'))"
      ],
      "metadata": {
        "id": "CHCJ64I8i2QB",
        "outputId": "9fc31106-7deb-4314-881e-630774d28e1a",
        "colab": {
          "base_uri": "https://localhost:8080/"
        }
      },
      "execution_count": 13,
      "outputs": [
        {
          "output_type": "stream",
          "name": "stdout",
          "text": [
            "Функция wrapper была вызвана 1 раз(а)\n",
            "Function 'wrapper' called with args: ('whole',), kwargs: {}\n",
            "Время выполнения функции 'word_count': 0.9563987255096436 секунд\n",
            "Cлово whole встречается 176 раз\n"
          ]
        }
      ]
    },
    {
      "cell_type": "code",
      "source": [
        "def fib(n):\n",
        "    if n < 2:\n",
        "        return n\n",
        "    return fib(n-2) + fib(n-1)"
      ],
      "metadata": {
        "id": "ZE4Rfn-hh3k3"
      },
      "execution_count": 32,
      "outputs": []
    },
    {
      "cell_type": "code",
      "source": [
        "import time\n",
        "\n",
        "def timer(func):\n",
        "    \"\"\"\n",
        "    Декоратор для измерения времени выполнения функции\n",
        "    \"\"\"\n",
        "    def wrapper(*args, **kwargs):\n",
        "        start_time = time.time()\n",
        "        result = func(*args, **kwargs)\n",
        "        end_time = time.time()\n",
        "        execution_time = end_time - start_time\n",
        "        wrapper.execution_times.append(execution_time)\n",
        "        return result\n",
        "\n",
        "    wrapper.execution_times = []\n",
        "\n",
        "    def average_execution_time():\n",
        "        return sum(wrapper.execution_times) / len(wrapper.execution_times) if wrapper.execution_times else 0\n",
        "\n",
        "    def min_execution_time():\n",
        "        return min(wrapper.execution_times) if wrapper.execution_times else 0\n",
        "\n",
        "    def max_execution_time():\n",
        "        return max(wrapper.execution_times) if wrapper.execution_times else 0\n",
        "\n",
        "    wrapper.average_execution_time = average_execution_time\n",
        "    wrapper.min_execution_time = min_execution_time\n",
        "    wrapper.max_execution_time = max_execution_time\n",
        "    return wrapper\n",
        "\n",
        "# Пример использования:\n",
        "@timer\n",
        "def fib(n):\n",
        "    if n < 2:\n",
        "        return n\n",
        "    return fib(n-2) + fib(n-1)\n",
        "\n",
        "# Теперь при вызове функции fib будут выводиться усреднённое, минимальное и максимальное время её выполнения\n",
        "result = fib(10)\n",
        "print(f\"Усреднённое время выполнения функции fib: {fib.average_execution_time():.5f} секунд\")\n",
        "print(f\"Минимальное время выполнения функции fib: {fib.min_execution_time():.5f} секунд\")\n",
        "print(f\"Максимальное время выполнения функции fib: {fib.max_execution_time():.5f} секунд\")\n",
        "print(result)"
      ],
      "metadata": {
        "id": "Io94NyjiiXG4",
        "outputId": "e51b8927-1044-43f2-82cc-96f18e201f62",
        "colab": {
          "base_uri": "https://localhost:8080/"
        }
      },
      "execution_count": 33,
      "outputs": [
        {
          "output_type": "stream",
          "name": "stdout",
          "text": [
            "Усреднённое время выполнения функции fib: 0.00001 секунд\n",
            "Минимальное время выполнения функции fib: 0.00000 секунд\n",
            "Максимальное время выполнения функции fib: 0.00020 секунд\n",
            "55\n"
          ]
        }
      ]
    },
    {
      "cell_type": "code",
      "source": [
        "@memo\n",
        "def fib(n):\n",
        "    if n < 2:\n",
        "        return n\n",
        "    return fib(n-2) + fib(n-1)"
      ],
      "metadata": {
        "id": "W9B3e-t9iTUj"
      },
      "execution_count": 34,
      "outputs": []
    },
    {
      "cell_type": "code",
      "source": [
        "import time\n",
        "\n",
        "def timer(func):\n",
        "    \"\"\"\n",
        "    Декоратор для измерения времени выполнения функции\n",
        "    \"\"\"\n",
        "    def wrapper(*args, **kwargs):\n",
        "        start_time = time.time()\n",
        "        result = func(*args, **kwargs)\n",
        "        end_time = time.time()\n",
        "        execution_time = end_time - start_time\n",
        "        wrapper.execution_times.append(execution_time)\n",
        "        return result\n",
        "\n",
        "    wrapper.execution_times = []\n",
        "\n",
        "    def average_execution_time():\n",
        "        return sum(wrapper.execution_times) / len(wrapper.execution_times) if wrapper.execution_times else 0\n",
        "\n",
        "    def min_execution_time():\n",
        "        return min(wrapper.execution_times) if wrapper.execution_times else 0\n",
        "\n",
        "    def max_execution_time():\n",
        "        return max(wrapper.execution_times) if wrapper.execution_times else 0\n",
        "\n",
        "    wrapper.average_execution_time = average_execution_time\n",
        "    wrapper.min_execution_time = min_execution_time\n",
        "    wrapper.max_execution_time = max_execution_time\n",
        "    return wrapper\n",
        "\n",
        "def memo(func):\n",
        "    \"\"\"\n",
        "    Декоратор, запоминающий результаты исполнения функции func, чьи аргументы args должны быть хешируемыми\n",
        "    \"\"\"\n",
        "    cache = {}\n",
        "\n",
        "    @timer\n",
        "    def fmemo(*args):\n",
        "        if args in cache:\n",
        "            return cache[args]\n",
        "        else:\n",
        "            result = func(*args)\n",
        "            cache[args] = result\n",
        "            return result\n",
        "\n",
        "    fmemo.cache = cache\n",
        "    return fmemo\n",
        "\n",
        "# Пример использования:\n",
        "@memo\n",
        "def fib(n):\n",
        "    if n < 2:\n",
        "        return n\n",
        "    return fib(n-2) + fib(n-1)\n",
        "\n",
        "# Теперь при вызове функции fib будут выводиться усреднённое, минимальное и максимальное время её выполнения\n",
        "result = fib(10)\n",
        "print(f\"Усреднённое время выполнения функции fib: {fib.average_execution_time():.5f} секунд\")\n",
        "print(f\"Минимальное время выполнения функции fib: {fib.min_execution_time():.5f} секунд\")\n",
        "print(f\"Максимальное время выполнения функции fib: {fib.max_execution_time():.5f} секунд\")\n",
        "print(result)"
      ],
      "metadata": {
        "id": "Sk6_4KQaidkh",
        "outputId": "de8ec22a-06a1-439b-dc2f-ea8f6ad8e66a",
        "colab": {
          "base_uri": "https://localhost:8080/"
        }
      },
      "execution_count": 35,
      "outputs": [
        {
          "output_type": "stream",
          "name": "stdout",
          "text": [
            "Усреднённое время выполнения функции fib: 0.00001 секунд\n",
            "Минимальное время выполнения функции fib: 0.00000 секунд\n",
            "Максимальное время выполнения функции fib: 0.00004 секунд\n",
            "55\n"
          ]
        }
      ]
    }
  ]
}