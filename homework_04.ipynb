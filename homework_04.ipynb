{
  "nbformat": 4,
  "nbformat_minor": 0,
  "metadata": {
    "colab": {
      "provenance": [],
      "include_colab_link": true
    },
    "kernelspec": {
      "name": "python3",
      "display_name": "Python 3"
    },
    "language_info": {
      "name": "python"
    }
  },
  "cells": [
    {
      "cell_type": "markdown",
      "metadata": {
        "id": "view-in-github",
        "colab_type": "text"
      },
      "source": [
        "<a href=\"https://colab.research.google.com/github/Wirexiam/decorators/blob/main/homework_04.ipynb\" target=\"_parent\"><img src=\"https://colab.research.google.com/assets/colab-badge.svg\" alt=\"Open In Colab\"/></a>"
      ]
    },
    {
      "cell_type": "markdown",
      "source": [
        "# Домашнее задание: декораторы"
      ],
      "metadata": {
        "id": "QY4qPJPpgyIS"
      }
    },
    {
      "cell_type": "markdown",
      "source": [
        "## Импорт библиотек, установка констант"
      ],
      "metadata": {
        "id": "Chacc6YchldZ"
      }
    },
    {
      "cell_type": "code",
      "source": [
        "import requests\n",
        "import time\n",
        "import re\n",
        "\n",
        "from random import randint"
      ],
      "metadata": {
        "id": "w8iKrWvwhrFd"
      },
      "execution_count": 33,
      "outputs": []
    },
    {
      "cell_type": "code",
      "source": [
        "BOOK_PATH = 'https://www.gutenberg.org/files/2638/2638-0.txt'"
      ],
      "metadata": {
        "id": "-LRkS0fSi8Np"
      },
      "execution_count": 34,
      "outputs": []
    },
    {
      "cell_type": "markdown",
      "source": [
        "## Задание 1"
      ],
      "metadata": {
        "id": "kARfL8ifg4MH"
      }
    },
    {
      "cell_type": "code",
      "execution_count": 35,
      "metadata": {
        "id": "hNHNWPhngrUl"
      },
      "outputs": [],
      "source": [
        "def benchmark(func):\n",
        "    def wrapper(*args, **kwargs):\n",
        "        start_time = time.time()\n",
        "        result = func(*args, **kwargs)\n",
        "        end_time = time.time()\n",
        "        print(f\"Время выполнения функции '{func.__name__}': {end_time - start_time} секунд.\")\n",
        "        return result\n",
        "    return wrapper"
      ]
    },
    {
      "cell_type": "markdown",
      "source": [
        "## Задание 2"
      ],
      "metadata": {
        "id": "tGlbUKjihL5n"
      }
    },
    {
      "cell_type": "code",
      "source": [
        "def logging(func):\n",
        "    def wrapper(*args, **kwargs):\n",
        "        args_repr = [repr(a) for a in args]\n",
        "        kwargs_repr = [f\"{k}={v!r}\" for k, v in kwargs.items()]\n",
        "        signature = \", \".join(args_repr + kwargs_repr)\n",
        "        print(f\"Вызов функции '{func.__name__}' с аргументами {signature}\")\n",
        "        return func(*args, **kwargs)\n",
        "    return wrapper\n"
      ],
      "metadata": {
        "id": "wugOZDLqhNe-"
      },
      "execution_count": 36,
      "outputs": []
    },
    {
      "cell_type": "markdown",
      "source": [
        "## Задание 3"
      ],
      "metadata": {
        "id": "Sq1tv5fshTfv"
      }
    },
    {
      "cell_type": "code",
      "source": [
        "def counter(func):\n",
        "    func.calls = 0\n",
        "    def wrapper(*args, **kwargs):\n",
        "        wrapper.calls += 1\n",
        "        print(f\"Функция '{func.__name__}' была вызвана {wrapper.calls} раз(а).\")\n",
        "        return func(*args, **kwargs)\n",
        "    wrapper.calls = 0\n",
        "    return wrapper\n"
      ],
      "metadata": {
        "id": "9nyvuxXkhVeb"
      },
      "execution_count": 37,
      "outputs": []
    },
    {
      "cell_type": "markdown",
      "source": [
        "## Задание 4"
      ],
      "metadata": {
        "id": "uHn8Adfshz5q"
      }
    },
    {
      "cell_type": "code",
      "source": [
        "def memo(func):\n",
        "    cache = {}\n",
        "    def fmemo(*args):\n",
        "        if args in cache:\n",
        "            return cache[args]\n",
        "        result = func(*args)\n",
        "        cache[args] = result\n",
        "        return result\n",
        "    fmemo.cache = cache\n",
        "    return fmemo"
      ],
      "metadata": {
        "id": "R7uu6WtGifNX"
      },
      "execution_count": 38,
      "outputs": []
    },
    {
      "cell_type": "markdown",
      "source": [
        "## Тестирование"
      ],
      "metadata": {
        "id": "Zn5UQCa_izxo"
      }
    },
    {
      "cell_type": "code",
      "source": [
        "@counter\n",
        "@logging\n",
        "@benchmark\n",
        "def word_count(word, url=BOOK_PATH):\n",
        "    \"\"\"\n",
        "    Функция для посчета указанного слова на html-странице\n",
        "    \"\"\"\n",
        "\n",
        "    # отправляем запрос в библиотеку Gutenberg и забираем текст\n",
        "    raw = requests.get(url).text\n",
        "\n",
        "    # заменяем в тексте все небуквенные символы на пробелы\n",
        "    processed_book = re.sub('[\\W]+' , ' ', raw).lower()\n",
        "\n",
        "    # считаем\n",
        "    cnt = len(re.findall(word.lower(), processed_book))\n",
        "\n",
        "    return f\"Cлово {word} встречается {cnt} раз\"\n",
        "\n",
        "print(word_count('whole'))"
      ],
      "metadata": {
        "id": "CHCJ64I8i2QB",
        "outputId": "35eb5734-9bb8-482a-c68d-1fc8b040e23d",
        "colab": {
          "base_uri": "https://localhost:8080/"
        }
      },
      "execution_count": 39,
      "outputs": [
        {
          "output_type": "stream",
          "name": "stdout",
          "text": [
            "Функция 'wrapper' была вызвана 1 раз(а).\n",
            "Вызов функции 'wrapper' с аргументами 'whole'\n",
            "Время выполнения функции 'word_count': 0.6745381355285645 секунд.\n",
            "Cлово whole встречается 176 раз\n"
          ]
        }
      ]
    },
    {
      "cell_type": "code",
      "source": [
        "def fib(n):\n",
        "    if n < 2:\n",
        "        return n\n",
        "    return fib(n-2) + fib(n-1)"
      ],
      "metadata": {
        "id": "ZE4Rfn-hh3k3"
      },
      "execution_count": 40,
      "outputs": []
    },
    {
      "cell_type": "code",
      "source": [
        "# Измерим время выполнения функции fib(n) без использования декоратора для n = 30\n",
        "\n",
        "start_time = time.time()\n",
        "\n",
        "# Определение функции fib(n)\n",
        "def fib(n):\n",
        "    if n < 2:\n",
        "        return n\n",
        "    return fib(n-2) + fib(n-1)\n",
        "\n",
        "# Вызов функции fib(n) и измерение времени выполнения\n",
        "result = fib(30)\n",
        "\n",
        "end_time = time.time()\n",
        "\n",
        "# Расчет затраченного времени и вывод результатов\n",
        "time_taken = end_time - start_time\n",
        "print(f\"Результат: {result}. Время выполнения {time_taken} сек.\")"
      ],
      "metadata": {
        "id": "Io94NyjiiXG4",
        "outputId": "e94e5d2c-1c05-4b1e-b430-081294f09db2",
        "colab": {
          "base_uri": "https://localhost:8080/"
        }
      },
      "execution_count": 41,
      "outputs": [
        {
          "output_type": "stream",
          "name": "stdout",
          "text": [
            "Результат: 832040. Время выполнения 0.3583812713623047 сек.\n"
          ]
        }
      ]
    },
    {
      "cell_type": "code",
      "source": [
        "@memo\n",
        "def fib(n):\n",
        "    if n < 2:\n",
        "        return n\n",
        "    return fib(n-2) + fib(n-1)"
      ],
      "metadata": {
        "id": "W9B3e-t9iTUj"
      },
      "execution_count": 42,
      "outputs": []
    },
    {
      "cell_type": "code",
      "source": [
        "@memo\n",
        "def fib(n):\n",
        "    if n < 2:\n",
        "        return n\n",
        "    return fib(n-2) + fib(n-1)\n",
        "\n",
        "start_time_memoized = time.time()\n",
        "\n",
        "# Вызов функции fib_memoized(n) с декоратором memo и измерение времени выполнения\n",
        "result_memoized = fib(30)\n",
        "\n",
        "end_time_memoized = time.time()\n",
        "\n",
        "# Расчет затраченного времени с декоратором и вывод результатов\n",
        "time_taken_memoized = end_time_memoized - start_time_memoized\n",
        "print(f\"Результат: {result_memoized}. Время выполнения: {time_taken_memoized} сек.\")"
      ],
      "metadata": {
        "id": "Sk6_4KQaidkh",
        "outputId": "39be3a34-4a8d-4223-f563-3ac67a68b08e",
        "colab": {
          "base_uri": "https://localhost:8080/"
        }
      },
      "execution_count": 43,
      "outputs": [
        {
          "output_type": "stream",
          "name": "stdout",
          "text": [
            "Результат: 832040. Время выполнения: 0.00022840499877929688 сек.\n"
          ]
        }
      ]
    }
  ]
}